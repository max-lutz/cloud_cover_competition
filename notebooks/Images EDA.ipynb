{
 "cells": [
  {
   "cell_type": "code",
   "execution_count": 121,
   "id": "4edc5c82",
   "metadata": {},
   "outputs": [],
   "source": [
    "import shutil\n",
    "import matplotlib.pyplot as plt\n",
    "import numpy as np\n",
    "import pandas as pd\n",
    "from pandas_path import path\n",
    "from pathlib import Path\n",
    "from PIL import Image\n",
    "import rasterio\n",
    "\n",
    "from random import randrange\n",
    "\n",
    "import xarray\n",
    "import xrspatial.multispectral as ms\n",
    "\n",
    "import seaborn as sns\n",
    "%matplotlib inline\n",
    "plt.rcParams['font.size'] = '15'"
   ]
  },
  {
   "cell_type": "code",
   "execution_count": 122,
   "id": "1826be90",
   "metadata": {},
   "outputs": [],
   "source": [
    "DATA_DIR = Path.cwd().parent / \"data/raw/train\"\n",
    "TRAIN_FEATURES = DATA_DIR / \"train_features\"\n",
    "TRAIN_LABELS = DATA_DIR / \"train_labels\"\n",
    "\n",
    "BANDS = [\"B02\", \"B03\", \"B04\", \"B08\"]"
   ]
  },
  {
   "cell_type": "code",
   "execution_count": 123,
   "id": "5ce5335a",
   "metadata": {},
   "outputs": [
    {
     "data": {
      "text/html": [
       "<div>\n",
       "<style scoped>\n",
       "    .dataframe tbody tr th:only-of-type {\n",
       "        vertical-align: middle;\n",
       "    }\n",
       "\n",
       "    .dataframe tbody tr th {\n",
       "        vertical-align: top;\n",
       "    }\n",
       "\n",
       "    .dataframe thead th {\n",
       "        text-align: right;\n",
       "    }\n",
       "</style>\n",
       "<table border=\"1\" class=\"dataframe\">\n",
       "  <thead>\n",
       "    <tr style=\"text-align: right;\">\n",
       "      <th></th>\n",
       "      <th>chip_id</th>\n",
       "      <th>location</th>\n",
       "      <th>datetime</th>\n",
       "      <th>cloudpath</th>\n",
       "    </tr>\n",
       "  </thead>\n",
       "  <tbody>\n",
       "    <tr>\n",
       "      <th>0</th>\n",
       "      <td>adwp</td>\n",
       "      <td>Chifunfu</td>\n",
       "      <td>2020-04-29T08:20:47Z</td>\n",
       "      <td>az://./train_features/adwp</td>\n",
       "    </tr>\n",
       "    <tr>\n",
       "      <th>1</th>\n",
       "      <td>adwu</td>\n",
       "      <td>Chifunfu</td>\n",
       "      <td>2020-04-29T08:20:47Z</td>\n",
       "      <td>az://./train_features/adwu</td>\n",
       "    </tr>\n",
       "    <tr>\n",
       "      <th>2</th>\n",
       "      <td>adwz</td>\n",
       "      <td>Chifunfu</td>\n",
       "      <td>2020-04-29T08:20:47Z</td>\n",
       "      <td>az://./train_features/adwz</td>\n",
       "    </tr>\n",
       "    <tr>\n",
       "      <th>3</th>\n",
       "      <td>adxp</td>\n",
       "      <td>Chifunfu</td>\n",
       "      <td>2020-04-29T08:20:47Z</td>\n",
       "      <td>az://./train_features/adxp</td>\n",
       "    </tr>\n",
       "    <tr>\n",
       "      <th>4</th>\n",
       "      <td>aeaj</td>\n",
       "      <td>Chifunfu</td>\n",
       "      <td>2020-04-29T08:20:47Z</td>\n",
       "      <td>az://./train_features/aeaj</td>\n",
       "    </tr>\n",
       "  </tbody>\n",
       "</table>\n",
       "</div>"
      ],
      "text/plain": [
       "  chip_id  location              datetime                   cloudpath\n",
       "0    adwp  Chifunfu  2020-04-29T08:20:47Z  az://./train_features/adwp\n",
       "1    adwu  Chifunfu  2020-04-29T08:20:47Z  az://./train_features/adwu\n",
       "2    adwz  Chifunfu  2020-04-29T08:20:47Z  az://./train_features/adwz\n",
       "3    adxp  Chifunfu  2020-04-29T08:20:47Z  az://./train_features/adxp\n",
       "4    aeaj  Chifunfu  2020-04-29T08:20:47Z  az://./train_features/aeaj"
      ]
     },
     "execution_count": 123,
     "metadata": {},
     "output_type": "execute_result"
    }
   ],
   "source": [
    "train_meta = pd.read_csv(DATA_DIR / \"train_metadata.csv\")\n",
    "train_meta.head()"
   ]
  },
  {
   "cell_type": "code",
   "execution_count": 124,
   "id": "938b407d",
   "metadata": {},
   "outputs": [
    {
     "data": {
      "text/html": [
       "<div>\n",
       "<style scoped>\n",
       "    .dataframe tbody tr th:only-of-type {\n",
       "        vertical-align: middle;\n",
       "    }\n",
       "\n",
       "    .dataframe tbody tr th {\n",
       "        vertical-align: top;\n",
       "    }\n",
       "\n",
       "    .dataframe thead th {\n",
       "        text-align: right;\n",
       "    }\n",
       "</style>\n",
       "<table border=\"1\" class=\"dataframe\">\n",
       "  <thead>\n",
       "    <tr style=\"text-align: right;\">\n",
       "      <th></th>\n",
       "      <th>chip_id</th>\n",
       "      <th>location</th>\n",
       "      <th>datetime</th>\n",
       "      <th>cloudpath</th>\n",
       "      <th>B02_path</th>\n",
       "      <th>B03_path</th>\n",
       "      <th>B04_path</th>\n",
       "      <th>B08_path</th>\n",
       "      <th>label_path</th>\n",
       "    </tr>\n",
       "  </thead>\n",
       "  <tbody>\n",
       "    <tr>\n",
       "      <th>0</th>\n",
       "      <td>adwp</td>\n",
       "      <td>Chifunfu</td>\n",
       "      <td>2020-04-29T08:20:47Z</td>\n",
       "      <td>az://./train_features/adwp</td>\n",
       "      <td>C:\\Users\\maxlu\\Desktop\\Machine_Learning\\PROJEC...</td>\n",
       "      <td>C:\\Users\\maxlu\\Desktop\\Machine_Learning\\PROJEC...</td>\n",
       "      <td>C:\\Users\\maxlu\\Desktop\\Machine_Learning\\PROJEC...</td>\n",
       "      <td>C:\\Users\\maxlu\\Desktop\\Machine_Learning\\PROJEC...</td>\n",
       "      <td>C:\\Users\\maxlu\\Desktop\\Machine_Learning\\PROJEC...</td>\n",
       "    </tr>\n",
       "    <tr>\n",
       "      <th>1</th>\n",
       "      <td>adwu</td>\n",
       "      <td>Chifunfu</td>\n",
       "      <td>2020-04-29T08:20:47Z</td>\n",
       "      <td>az://./train_features/adwu</td>\n",
       "      <td>C:\\Users\\maxlu\\Desktop\\Machine_Learning\\PROJEC...</td>\n",
       "      <td>C:\\Users\\maxlu\\Desktop\\Machine_Learning\\PROJEC...</td>\n",
       "      <td>C:\\Users\\maxlu\\Desktop\\Machine_Learning\\PROJEC...</td>\n",
       "      <td>C:\\Users\\maxlu\\Desktop\\Machine_Learning\\PROJEC...</td>\n",
       "      <td>C:\\Users\\maxlu\\Desktop\\Machine_Learning\\PROJEC...</td>\n",
       "    </tr>\n",
       "    <tr>\n",
       "      <th>2</th>\n",
       "      <td>adwz</td>\n",
       "      <td>Chifunfu</td>\n",
       "      <td>2020-04-29T08:20:47Z</td>\n",
       "      <td>az://./train_features/adwz</td>\n",
       "      <td>C:\\Users\\maxlu\\Desktop\\Machine_Learning\\PROJEC...</td>\n",
       "      <td>C:\\Users\\maxlu\\Desktop\\Machine_Learning\\PROJEC...</td>\n",
       "      <td>C:\\Users\\maxlu\\Desktop\\Machine_Learning\\PROJEC...</td>\n",
       "      <td>C:\\Users\\maxlu\\Desktop\\Machine_Learning\\PROJEC...</td>\n",
       "      <td>C:\\Users\\maxlu\\Desktop\\Machine_Learning\\PROJEC...</td>\n",
       "    </tr>\n",
       "    <tr>\n",
       "      <th>3</th>\n",
       "      <td>adxp</td>\n",
       "      <td>Chifunfu</td>\n",
       "      <td>2020-04-29T08:20:47Z</td>\n",
       "      <td>az://./train_features/adxp</td>\n",
       "      <td>C:\\Users\\maxlu\\Desktop\\Machine_Learning\\PROJEC...</td>\n",
       "      <td>C:\\Users\\maxlu\\Desktop\\Machine_Learning\\PROJEC...</td>\n",
       "      <td>C:\\Users\\maxlu\\Desktop\\Machine_Learning\\PROJEC...</td>\n",
       "      <td>C:\\Users\\maxlu\\Desktop\\Machine_Learning\\PROJEC...</td>\n",
       "      <td>C:\\Users\\maxlu\\Desktop\\Machine_Learning\\PROJEC...</td>\n",
       "    </tr>\n",
       "    <tr>\n",
       "      <th>4</th>\n",
       "      <td>aeaj</td>\n",
       "      <td>Chifunfu</td>\n",
       "      <td>2020-04-29T08:20:47Z</td>\n",
       "      <td>az://./train_features/aeaj</td>\n",
       "      <td>C:\\Users\\maxlu\\Desktop\\Machine_Learning\\PROJEC...</td>\n",
       "      <td>C:\\Users\\maxlu\\Desktop\\Machine_Learning\\PROJEC...</td>\n",
       "      <td>C:\\Users\\maxlu\\Desktop\\Machine_Learning\\PROJEC...</td>\n",
       "      <td>C:\\Users\\maxlu\\Desktop\\Machine_Learning\\PROJEC...</td>\n",
       "      <td>C:\\Users\\maxlu\\Desktop\\Machine_Learning\\PROJEC...</td>\n",
       "    </tr>\n",
       "  </tbody>\n",
       "</table>\n",
       "</div>"
      ],
      "text/plain": [
       "  chip_id  location              datetime                   cloudpath  \\\n",
       "0    adwp  Chifunfu  2020-04-29T08:20:47Z  az://./train_features/adwp   \n",
       "1    adwu  Chifunfu  2020-04-29T08:20:47Z  az://./train_features/adwu   \n",
       "2    adwz  Chifunfu  2020-04-29T08:20:47Z  az://./train_features/adwz   \n",
       "3    adxp  Chifunfu  2020-04-29T08:20:47Z  az://./train_features/adxp   \n",
       "4    aeaj  Chifunfu  2020-04-29T08:20:47Z  az://./train_features/aeaj   \n",
       "\n",
       "                                            B02_path  \\\n",
       "0  C:\\Users\\maxlu\\Desktop\\Machine_Learning\\PROJEC...   \n",
       "1  C:\\Users\\maxlu\\Desktop\\Machine_Learning\\PROJEC...   \n",
       "2  C:\\Users\\maxlu\\Desktop\\Machine_Learning\\PROJEC...   \n",
       "3  C:\\Users\\maxlu\\Desktop\\Machine_Learning\\PROJEC...   \n",
       "4  C:\\Users\\maxlu\\Desktop\\Machine_Learning\\PROJEC...   \n",
       "\n",
       "                                            B03_path  \\\n",
       "0  C:\\Users\\maxlu\\Desktop\\Machine_Learning\\PROJEC...   \n",
       "1  C:\\Users\\maxlu\\Desktop\\Machine_Learning\\PROJEC...   \n",
       "2  C:\\Users\\maxlu\\Desktop\\Machine_Learning\\PROJEC...   \n",
       "3  C:\\Users\\maxlu\\Desktop\\Machine_Learning\\PROJEC...   \n",
       "4  C:\\Users\\maxlu\\Desktop\\Machine_Learning\\PROJEC...   \n",
       "\n",
       "                                            B04_path  \\\n",
       "0  C:\\Users\\maxlu\\Desktop\\Machine_Learning\\PROJEC...   \n",
       "1  C:\\Users\\maxlu\\Desktop\\Machine_Learning\\PROJEC...   \n",
       "2  C:\\Users\\maxlu\\Desktop\\Machine_Learning\\PROJEC...   \n",
       "3  C:\\Users\\maxlu\\Desktop\\Machine_Learning\\PROJEC...   \n",
       "4  C:\\Users\\maxlu\\Desktop\\Machine_Learning\\PROJEC...   \n",
       "\n",
       "                                            B08_path  \\\n",
       "0  C:\\Users\\maxlu\\Desktop\\Machine_Learning\\PROJEC...   \n",
       "1  C:\\Users\\maxlu\\Desktop\\Machine_Learning\\PROJEC...   \n",
       "2  C:\\Users\\maxlu\\Desktop\\Machine_Learning\\PROJEC...   \n",
       "3  C:\\Users\\maxlu\\Desktop\\Machine_Learning\\PROJEC...   \n",
       "4  C:\\Users\\maxlu\\Desktop\\Machine_Learning\\PROJEC...   \n",
       "\n",
       "                                          label_path  \n",
       "0  C:\\Users\\maxlu\\Desktop\\Machine_Learning\\PROJEC...  \n",
       "1  C:\\Users\\maxlu\\Desktop\\Machine_Learning\\PROJEC...  \n",
       "2  C:\\Users\\maxlu\\Desktop\\Machine_Learning\\PROJEC...  \n",
       "3  C:\\Users\\maxlu\\Desktop\\Machine_Learning\\PROJEC...  \n",
       "4  C:\\Users\\maxlu\\Desktop\\Machine_Learning\\PROJEC...  "
      ]
     },
     "execution_count": 124,
     "metadata": {},
     "output_type": "execute_result"
    }
   ],
   "source": [
    "def add_paths(df, feature_dir, label_dir=None, bands=BANDS):\n",
    "    \"\"\"\n",
    "    Given dataframe with a column for chip_id, returns a dataframe with a column\n",
    "    added indicating the path to each band's TIF image as \"{band}_path\", eg \"B02_path\".\n",
    "    A column is also added to the dataframe with paths to the label TIF, if the\n",
    "    path to the labels directory is provided.\n",
    "    \"\"\"\n",
    "    for band in bands:\n",
    "        df[f\"{band}_path\"] = feature_dir / df[\"chip_id\"] / f\"{band}.tif\"\n",
    "        assert df[f\"{band}_path\"].path.exists().all()\n",
    "    if label_dir is not None:\n",
    "        df[\"label_path\"] = label_dir / (df[\"chip_id\"] + \".tif\")\n",
    "        assert df[\"label_path\"].path.exists().all()\n",
    "\n",
    "    return df\n",
    "\n",
    "\n",
    "train_meta = add_paths(train_meta, TRAIN_FEATURES, TRAIN_LABELS)\n",
    "train_meta.head()"
   ]
  },
  {
   "cell_type": "markdown",
   "id": "98f7a5d7",
   "metadata": {},
   "source": [
    "## Define helping functions"
   ]
  },
  {
   "cell_type": "code",
   "execution_count": 125,
   "id": "24da1c2b",
   "metadata": {},
   "outputs": [],
   "source": [
    "def load_features(image_index):\n",
    "    image = np.zeros((512,512,4))\n",
    "    for i, band in enumerate(['B02_path', 'B03_path', 'B04_path', 'B08_path']):\n",
    "        with rasterio.open(train_meta[band][image_index]) as img:            \n",
    "            image[:,:,i] = img.read(1)\n",
    "    return image"
   ]
  },
  {
   "cell_type": "code",
   "execution_count": 126,
   "id": "5458455b",
   "metadata": {},
   "outputs": [],
   "source": [
    "def load_label(image_index):\n",
    "    image = np.zeros((512,512,1))\n",
    "    with rasterio.open(train_meta['label_path'][image_index]) as img:            \n",
    "        image[:,:,0] = img.read(1)\n",
    "    return image"
   ]
  },
  {
   "cell_type": "code",
   "execution_count": 127,
   "id": "0d1b72e1",
   "metadata": {},
   "outputs": [],
   "source": [
    "def get_xarray(filepath):\n",
    "    \"\"\"Put images in xarray.DataArray format\"\"\"\n",
    "    im_arr = np.array(Image.open(filepath))\n",
    "    return xarray.DataArray(im_arr, dims=[\"y\", \"x\"])\n",
    "\n",
    "\n",
    "def true_color_img(image_index):\n",
    "    \"\"\"Given the path to the directory of Sentinel-2 chip feature images,\n",
    "    plots the true color image\"\"\"\n",
    "    blue = get_xarray(train_meta['B02_path'][image_index])\n",
    "    green = get_xarray(train_meta['B03_path'][image_index])\n",
    "    red = get_xarray(train_meta['B04_path'][image_index])\n",
    "\n",
    "    return ms.true_color(r=red, g=green, b=blue)"
   ]
  },
  {
   "cell_type": "code",
   "execution_count": 128,
   "id": "d7247c53",
   "metadata": {},
   "outputs": [],
   "source": [
    "def cover_percentage(image_index):\n",
    "    img = load_label(image_index)\n",
    "    return np.sum(img)/(512*512)"
   ]
  },
  {
   "cell_type": "markdown",
   "id": "e6c875c0",
   "metadata": {},
   "source": [
    "## Calculate cloud cover distribution"
   ]
  },
  {
   "cell_type": "code",
   "execution_count": 129,
   "id": "88209175",
   "metadata": {},
   "outputs": [
    {
     "name": "stdout",
     "output_type": "stream",
     "text": [
      "99.8 %%\r"
     ]
    }
   ],
   "source": [
    "train_meta['coud_cover'] = 0\n",
    "for i in range(len(train_meta)):\n",
    "    train_meta.iloc[i, -1] = cover_percentage(i)\n",
    "    if(i%25 == 0):\n",
    "        print(round(100*i/len(train_meta), 2), '%', end='\\r')"
   ]
  },
  {
   "cell_type": "code",
   "execution_count": 130,
   "id": "1d89ddcf",
   "metadata": {},
   "outputs": [
    {
     "data": {
      "text/plain": [
       "count    11748.000000\n",
       "mean         0.621644\n",
       "std          0.376497\n",
       "min          0.000000\n",
       "25%          0.267097\n",
       "50%          0.726723\n",
       "75%          1.000000\n",
       "max          1.000000\n",
       "Name: coud_cover, dtype: float64"
      ]
     },
     "execution_count": 130,
     "metadata": {},
     "output_type": "execute_result"
    }
   ],
   "source": [
    "train_meta['coud_cover'].describe()"
   ]
  },
  {
   "cell_type": "code",
   "execution_count": 136,
   "id": "ccd1c7ab",
   "metadata": {},
   "outputs": [
    {
     "data": {
      "image/png": "[encoded data removed]",
      "text/plain": [
       "<Figure size 1584x576 with 1 Axes>"
      ]
     },
     "metadata": {
      "needs_background": "light"
     },
     "output_type": "display_data"
    }
   ],
   "source": [
    "fig, ax = plt.subplots(1,1, figsize=(22,8))\n",
    "sns.histplot(train_meta, x=train_meta.iloc[:,-1], ax=ax, bins=40, stat='percent')\n",
    "ax.set_title('Number of images per location');"
   ]
  }
 ],
 "metadata": {
  "kernelspec": {
   "display_name": "Python 3",
   "language": "python",
   "name": "python3"
  },
  "language_info": {
   "codemirror_mode": {
    "name": "ipython",
    "version": 3
   },
   "file_extension": ".py",
   "mimetype": "text/x-python",
   "name": "python",
   "nbconvert_exporter": "python",
   "pygments_lexer": "ipython3",
   "version": "3.9.6"
  }
 },
 "nbformat": 4,
 "nbformat_minor": 5
}
