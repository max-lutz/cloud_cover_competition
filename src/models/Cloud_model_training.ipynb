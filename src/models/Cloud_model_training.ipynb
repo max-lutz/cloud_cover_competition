{
  "nbformat": 4,
  "nbformat_minor": 0,
  "metadata": {
    "colab": {
      "name": "Cloud model training.ipynb",
      "provenance": [],
      "collapsed_sections": []
    },
    "kernelspec": {
      "name": "python3",
      "display_name": "Python 3"
    },
    "language_info": {
      "name": "python"
    }
  },
  "cells": [
    {
      "cell_type": "code",
      "execution_count": 1,
      "metadata": {
        "id": "ezXwtflRecMG",
        "colab": {
          "base_uri": "https://localhost:8080/"
        },
        "outputId": "f4650aae-e304-4983-e632-674693efadd3"
      },
      "outputs": [
        {
          "output_type": "stream",
          "name": "stdout",
          "text": [
            "\u001b[K     |████████████████████████████████| 19.3 MB 1.5 MB/s \n",
            "\u001b[?25hCollecting line_profiler\n",
            "  Downloading line_profiler-3.3.1-cp37-cp37m-manylinux2010_x86_64.whl (63 kB)\n",
            "\u001b[K     |████████████████████████████████| 63 kB 86 kB/s \n",
            "\u001b[?25hRequirement already satisfied: IPython>=0.13 in /usr/local/lib/python3.7/dist-packages (from line_profiler) (5.5.0)\n",
            "Requirement already satisfied: traitlets>=4.2 in /usr/local/lib/python3.7/dist-packages (from IPython>=0.13->line_profiler) (5.1.1)\n",
            "Requirement already satisfied: setuptools>=18.5 in /usr/local/lib/python3.7/dist-packages (from IPython>=0.13->line_profiler) (57.4.0)\n",
            "Requirement already satisfied: prompt-toolkit<2.0.0,>=1.0.4 in /usr/local/lib/python3.7/dist-packages (from IPython>=0.13->line_profiler) (1.0.18)\n",
            "Requirement already satisfied: pexpect in /usr/local/lib/python3.7/dist-packages (from IPython>=0.13->line_profiler) (4.8.0)\n",
            "Requirement already satisfied: simplegeneric>0.8 in /usr/local/lib/python3.7/dist-packages (from IPython>=0.13->line_profiler) (0.8.1)\n",
            "Requirement already satisfied: pygments in /usr/local/lib/python3.7/dist-packages (from IPython>=0.13->line_profiler) (2.6.1)\n",
            "Requirement already satisfied: decorator in /usr/local/lib/python3.7/dist-packages (from IPython>=0.13->line_profiler) (4.4.2)\n",
            "Requirement already satisfied: pickleshare in /usr/local/lib/python3.7/dist-packages (from IPython>=0.13->line_profiler) (0.7.5)\n",
            "Requirement already satisfied: wcwidth in /usr/local/lib/python3.7/dist-packages (from prompt-toolkit<2.0.0,>=1.0.4->IPython>=0.13->line_profiler) (0.2.5)\n",
            "Requirement already satisfied: six>=1.9.0 in /usr/local/lib/python3.7/dist-packages (from prompt-toolkit<2.0.0,>=1.0.4->IPython>=0.13->line_profiler) (1.15.0)\n",
            "Requirement already satisfied: ptyprocess>=0.5 in /usr/local/lib/python3.7/dist-packages (from pexpect->IPython>=0.13->line_profiler) (0.7.0)\n",
            "Installing collected packages: line-profiler\n",
            "Successfully installed line-profiler-3.3.1\n"
          ]
        }
      ],
      "source": [
        "!pip install rasterio -q\n",
        "!pip install pandas_path --quiet\n",
        "\n",
        "import shutil\n",
        "import matplotlib.pyplot as plt\n",
        "import numpy as np\n",
        "import pandas as pd\n",
        "from pandas_path import path\n",
        "from pathlib import Path\n",
        "from PIL import Image\n",
        "import rasterio\n",
        "\n",
        "import os\n",
        "import random\n",
        "import numpy.ma as ma\n",
        "plt.style.use(\"ggplot\")\n",
        "%matplotlib inline\n",
        "\n",
        "from IPython.display import HTML, display\n",
        "\n",
        "!pip install line_profiler\n",
        "\n",
        "import cv2\n",
        "import albumentations\n",
        "from tqdm import tqdm_notebook, tnrange\n",
        "from itertools import chain\n",
        "from skimage.io import imread, imshow, concatenate_images\n",
        "from skimage.transform import resize\n",
        "from skimage.morphology import label\n",
        "from sklearn.model_selection import train_test_split\n",
        "\n",
        "import tensorflow as tf\n",
        "\n",
        "from tensorflow.keras.metrics import MeanIoU\n",
        "import keras.backend as K\n",
        "from keras.models import Model, load_model\n",
        "from keras.layers import Input, BatchNormalization, Activation, Dense, Dropout\n",
        "from keras.layers.core import Lambda, RepeatVector, Reshape\n",
        "from keras.layers.convolutional import Conv2D, Conv2DTranspose\n",
        "from keras.layers.pooling import MaxPooling2D, GlobalMaxPool2D\n",
        "from keras.layers.merge import concatenate, add\n",
        "from keras.callbacks import EarlyStopping, ModelCheckpoint, ReduceLROnPlateau\n",
        "from tensorflow.keras.optimizers import Adam\n",
        "from keras.preprocessing.image import ImageDataGenerator, array_to_img, img_to_array, load_img\n",
        "\n",
        "pd.set_option('max_colwidth', 400)"
      ]
    },
    {
      "cell_type": "code",
      "source": [
        "from google.colab import drive\n",
        "drive.mount('/content/drive')"
      ],
      "metadata": {
        "colab": {
          "base_uri": "https://localhost:8080/"
        },
        "id": "CeYKGFyBevuE",
        "outputId": "dd20e73b-dba4-49a2-e128-6ab5f335110c"
      },
      "execution_count": 2,
      "outputs": [
        {
          "output_type": "stream",
          "name": "stdout",
          "text": [
            "Mounted at /content/drive\n"
          ]
        }
      ]
    },
    {
      "cell_type": "markdown",
      "source": [
        "## Load data path"
      ],
      "metadata": {
        "id": "-PNhcawnqlMs"
      }
    },
    {
      "cell_type": "code",
      "source": [
        "img_size = 512\n",
        "\n",
        "DATA_DIR = Path.cwd().parent / \"content/drive/MyDrive/DATA_SCIENCE/data_google_colab/cloud_cover/raw/train\"\n",
        "TRAIN_FEATURES = DATA_DIR / \"train_features\"\n",
        "TRAIN_LABELS = DATA_DIR / \"train_labels\"\n",
        "\n",
        "BANDS = [\"B02\", \"B03\", \"B04\", \"B08\"]\n",
        "\n",
        "train_meta = pd.read_csv(DATA_DIR / \"train_metadata_updated.csv\", index_col=0)"
      ],
      "metadata": {
        "id": "cE_P-zuTfsH7"
      },
      "execution_count": 3,
      "outputs": []
    },
    {
      "cell_type": "code",
      "source": [
        "def add_paths(df, feature_dir, label_dir=None, bands=BANDS):\n",
        "    \"\"\"\n",
        "    Given dataframe with a column for chip_id, returns a dataframe with a column\n",
        "    added indicating the path to each band's TIF image as \"{band}_path\", eg \"B02_path\".\n",
        "    A column is also added to the dataframe with paths to the label TIF, if the\n",
        "    path to the labels directory is provided.\n",
        "    \"\"\"\n",
        "    for band in bands:\n",
        "        df[f\"{band}_path\"] = \"\"\n",
        "\n",
        "    for i in range(len(df)):\n",
        "      for band in bands:\n",
        "          df[f\"{band}_path\"][i] = feature_dir / df[\"chip_id\"][i] / f\"{band}.tif\"\n",
        "          #assert df[f\"{band}_path\"].path.exists().all()\n",
        "      if label_dir is not None:\n",
        "          df[\"label_path\"][i] = label_dir / (df[\"chip_id\"][i] + \".tif\")\n",
        "          #assert df[\"label_path\"].path.exists().all()\n",
        "\n",
        "    return df"
      ],
      "metadata": {
        "id": "ppmlJMidOeRQ"
      },
      "execution_count": 4,
      "outputs": []
    },
    {
      "cell_type": "code",
      "source": [
        "train_meta = add_paths(train_meta, TRAIN_FEATURES, TRAIN_LABELS, bands=BANDS)"
      ],
      "metadata": {
        "id": "h6raE7VKPC2h",
        "colab": {
          "base_uri": "https://localhost:8080/"
        },
        "outputId": "e7b87bb5-7d2c-4ff8-e55a-69bbbceca9bf"
      },
      "execution_count": 5,
      "outputs": [
        {
          "output_type": "stream",
          "name": "stderr",
          "text": [
            "/usr/local/lib/python3.7/dist-packages/ipykernel_launcher.py:13: SettingWithCopyWarning: \n",
            "A value is trying to be set on a copy of a slice from a DataFrame\n",
            "\n",
            "See the caveats in the documentation: https://pandas.pydata.org/pandas-docs/stable/user_guide/indexing.html#returning-a-view-versus-a-copy\n",
            "  del sys.path[0]\n",
            "/usr/local/lib/python3.7/dist-packages/ipykernel_launcher.py:16: SettingWithCopyWarning: \n",
            "A value is trying to be set on a copy of a slice from a DataFrame\n",
            "\n",
            "See the caveats in the documentation: https://pandas.pydata.org/pandas-docs/stable/user_guide/indexing.html#returning-a-view-versus-a-copy\n",
            "  app.launch_new_instance()\n"
          ]
        }
      ]
    },
    {
      "cell_type": "code",
      "source": [
        "train_meta.head(5)"
      ],
      "metadata": {
        "colab": {
          "base_uri": "https://localhost:8080/",
          "height": 313
        },
        "id": "ODAFx0_Cie2k",
        "outputId": "669f66e3-d55c-4129-bbaf-859ad9a6ef70"
      },
      "execution_count": 6,
      "outputs": [
        {
          "output_type": "execute_result",
          "data": {
            "text/html": [
              "<div>\n",
              "<style scoped>\n",
              "    .dataframe tbody tr th:only-of-type {\n",
              "        vertical-align: middle;\n",
              "    }\n",
              "\n",
              "    .dataframe tbody tr th {\n",
              "        vertical-align: top;\n",
              "    }\n",
              "\n",
              "    .dataframe thead th {\n",
              "        text-align: right;\n",
              "    }\n",
              "</style>\n",
              "<table border=\"1\" class=\"dataframe\">\n",
              "  <thead>\n",
              "    <tr style=\"text-align: right;\">\n",
              "      <th></th>\n",
              "      <th>chip_id</th>\n",
              "      <th>location</th>\n",
              "      <th>datetime</th>\n",
              "      <th>cloudpath</th>\n",
              "      <th>B02_path</th>\n",
              "      <th>B03_path</th>\n",
              "      <th>B04_path</th>\n",
              "      <th>B08_path</th>\n",
              "      <th>label_path</th>\n",
              "      <th>cloud_cover</th>\n",
              "    </tr>\n",
              "  </thead>\n",
              "  <tbody>\n",
              "    <tr>\n",
              "      <th>0</th>\n",
              "      <td>adwp</td>\n",
              "      <td>Chifunfu</td>\n",
              "      <td>2020-04-29T08:20:47Z</td>\n",
              "      <td>az://./train_features/adwp</td>\n",
              "      <td>/content/drive/MyDrive/DATA_SCIENCE/data_google_colab/cloud_cover/raw/train/train_features/adwp/B02.tif</td>\n",
              "      <td>/content/drive/MyDrive/DATA_SCIENCE/data_google_colab/cloud_cover/raw/train/train_features/adwp/B03.tif</td>\n",
              "      <td>/content/drive/MyDrive/DATA_SCIENCE/data_google_colab/cloud_cover/raw/train/train_features/adwp/B04.tif</td>\n",
              "      <td>/content/drive/MyDrive/DATA_SCIENCE/data_google_colab/cloud_cover/raw/train/train_features/adwp/B08.tif</td>\n",
              "      <td>/content/drive/MyDrive/DATA_SCIENCE/data_google_colab/cloud_cover/raw/train/train_labels/adwp.tif</td>\n",
              "      <td>0.479294</td>\n",
              "    </tr>\n",
              "    <tr>\n",
              "      <th>1</th>\n",
              "      <td>adwu</td>\n",
              "      <td>Chifunfu</td>\n",
              "      <td>2020-04-29T08:20:47Z</td>\n",
              "      <td>az://./train_features/adwu</td>\n",
              "      <td>/content/drive/MyDrive/DATA_SCIENCE/data_google_colab/cloud_cover/raw/train/train_features/adwu/B02.tif</td>\n",
              "      <td>/content/drive/MyDrive/DATA_SCIENCE/data_google_colab/cloud_cover/raw/train/train_features/adwu/B03.tif</td>\n",
              "      <td>/content/drive/MyDrive/DATA_SCIENCE/data_google_colab/cloud_cover/raw/train/train_features/adwu/B04.tif</td>\n",
              "      <td>/content/drive/MyDrive/DATA_SCIENCE/data_google_colab/cloud_cover/raw/train/train_features/adwu/B08.tif</td>\n",
              "      <td>/content/drive/MyDrive/DATA_SCIENCE/data_google_colab/cloud_cover/raw/train/train_labels/adwu.tif</td>\n",
              "      <td>0.636658</td>\n",
              "    </tr>\n",
              "    <tr>\n",
              "      <th>2</th>\n",
              "      <td>adwz</td>\n",
              "      <td>Chifunfu</td>\n",
              "      <td>2020-04-29T08:20:47Z</td>\n",
              "      <td>az://./train_features/adwz</td>\n",
              "      <td>/content/drive/MyDrive/DATA_SCIENCE/data_google_colab/cloud_cover/raw/train/train_features/adwz/B02.tif</td>\n",
              "      <td>/content/drive/MyDrive/DATA_SCIENCE/data_google_colab/cloud_cover/raw/train/train_features/adwz/B03.tif</td>\n",
              "      <td>/content/drive/MyDrive/DATA_SCIENCE/data_google_colab/cloud_cover/raw/train/train_features/adwz/B04.tif</td>\n",
              "      <td>/content/drive/MyDrive/DATA_SCIENCE/data_google_colab/cloud_cover/raw/train/train_features/adwz/B08.tif</td>\n",
              "      <td>/content/drive/MyDrive/DATA_SCIENCE/data_google_colab/cloud_cover/raw/train/train_labels/adwz.tif</td>\n",
              "      <td>1.000000</td>\n",
              "    </tr>\n",
              "    <tr>\n",
              "      <th>3</th>\n",
              "      <td>adxp</td>\n",
              "      <td>Chifunfu</td>\n",
              "      <td>2020-04-29T08:20:47Z</td>\n",
              "      <td>az://./train_features/adxp</td>\n",
              "      <td>/content/drive/MyDrive/DATA_SCIENCE/data_google_colab/cloud_cover/raw/train/train_features/adxp/B02.tif</td>\n",
              "      <td>/content/drive/MyDrive/DATA_SCIENCE/data_google_colab/cloud_cover/raw/train/train_features/adxp/B03.tif</td>\n",
              "      <td>/content/drive/MyDrive/DATA_SCIENCE/data_google_colab/cloud_cover/raw/train/train_features/adxp/B04.tif</td>\n",
              "      <td>/content/drive/MyDrive/DATA_SCIENCE/data_google_colab/cloud_cover/raw/train/train_features/adxp/B08.tif</td>\n",
              "      <td>/content/drive/MyDrive/DATA_SCIENCE/data_google_colab/cloud_cover/raw/train/train_labels/adxp.tif</td>\n",
              "      <td>1.000000</td>\n",
              "    </tr>\n",
              "    <tr>\n",
              "      <th>4</th>\n",
              "      <td>aeaj</td>\n",
              "      <td>Chifunfu</td>\n",
              "      <td>2020-04-29T08:20:47Z</td>\n",
              "      <td>az://./train_features/aeaj</td>\n",
              "      <td>/content/drive/MyDrive/DATA_SCIENCE/data_google_colab/cloud_cover/raw/train/train_features/aeaj/B02.tif</td>\n",
              "      <td>/content/drive/MyDrive/DATA_SCIENCE/data_google_colab/cloud_cover/raw/train/train_features/aeaj/B03.tif</td>\n",
              "      <td>/content/drive/MyDrive/DATA_SCIENCE/data_google_colab/cloud_cover/raw/train/train_features/aeaj/B04.tif</td>\n",
              "      <td>/content/drive/MyDrive/DATA_SCIENCE/data_google_colab/cloud_cover/raw/train/train_features/aeaj/B08.tif</td>\n",
              "      <td>/content/drive/MyDrive/DATA_SCIENCE/data_google_colab/cloud_cover/raw/train/train_labels/aeaj.tif</td>\n",
              "      <td>1.000000</td>\n",
              "    </tr>\n",
              "  </tbody>\n",
              "</table>\n",
              "</div>"
            ],
            "text/plain": [
              "  chip_id  ... cloud_cover\n",
              "0    adwp  ...    0.479294\n",
              "1    adwu  ...    0.636658\n",
              "2    adwz  ...    1.000000\n",
              "3    adxp  ...    1.000000\n",
              "4    aeaj  ...    1.000000\n",
              "\n",
              "[5 rows x 10 columns]"
            ]
          },
          "metadata": {},
          "execution_count": 6
        }
      ]
    },
    {
      "cell_type": "markdown",
      "source": [
        "## Split the data"
      ],
      "metadata": {
        "id": "i9tY4w_Sqonp"
      }
    },
    {
      "cell_type": "code",
      "source": [
        "test_filenames = pd.read_csv(DATA_DIR / \"test_split.csv\")['location'].to_list()\n",
        "test_filenames"
      ],
      "metadata": {
        "colab": {
          "base_uri": "https://localhost:8080/"
        },
        "id": "5sBRGFiblY5L",
        "outputId": "cc569628-cb7b-446a-d2ac-c5d0cacb9032"
      },
      "execution_count": 9,
      "outputs": [
        {
          "output_type": "execute_result",
          "data": {
            "text/plain": [
              "['Adelaide',\n",
              " 'Alto Hama',\n",
              " 'Angkor Wat',\n",
              " 'Australia - Central',\n",
              " 'Australia - North West',\n",
              " 'Bambesa',\n",
              " 'Bechar',\n",
              " 'Bor',\n",
              " 'Cabo Verdo',\n",
              " 'Chifunfu',\n",
              " 'Chingola',\n",
              " 'Ecuador',\n",
              " 'Eritrea',\n",
              " 'Gabon',\n",
              " 'Ghana',\n",
              " 'Harare']"
            ]
          },
          "metadata": {},
          "execution_count": 9
        }
      ]
    },
    {
      "cell_type": "code",
      "source": [
        "df_train = train_meta.loc[~train_meta['location'].isin(test_filenames)]\n",
        "df_test = train_meta.loc[train_meta['location'].isin(test_filenames)]\n",
        "\n",
        "print(\"Test data ratio\", round(100*len(df_test)/len(train_meta), 2), \"%\")"
      ],
      "metadata": {
        "colab": {
          "base_uri": "https://localhost:8080/"
        },
        "id": "Jn9rhfctlY2W",
        "outputId": "54326645-72fb-4cd3-908c-41a84401cd14"
      },
      "execution_count": 13,
      "outputs": [
        {
          "output_type": "stream",
          "name": "stdout",
          "text": [
            "Test data ratio 20.66 %\n"
          ]
        }
      ]
    },
    {
      "cell_type": "markdown",
      "source": [
        "## Prepare loading the data"
      ],
      "metadata": {
        "id": "MGSaqM38mKK1"
      }
    },
    {
      "cell_type": "code",
      "source": [
        "class My_Custom_Generator(keras.utils.Sequence) :\n",
        "  \n",
        "  def __init__(self, image_filenames, labels, batch_size) :\n",
        "    self.image_filenames = image_filenames\n",
        "    self.labels = labels\n",
        "    self.batch_size = batch_size\n",
        "    \n",
        "    \n",
        "  def __len__(self) :\n",
        "    return (np.ceil(len(self.image_filenames) / float(self.batch_size))).astype(np.int)\n",
        "  \n",
        "  \n",
        "  def __getitem__(self, idx) :\n",
        "    batch_x = self.image_filenames[idx * self.batch_size : (idx+1) * self.batch_size]\n",
        "    batch_y = self.labels[idx * self.batch_size : (idx+1) * self.batch_size]\n",
        "    \n",
        "    return np.array([\n",
        "            resize(imread('/content/all_images/' + str(file_name)), (80, 80, 3))\n",
        "               for file_name in batch_x])/255.0, np.array(batch_y)"
      ],
      "metadata": {
        "id": "5r-Rr8uilYn2"
      },
      "execution_count": null,
      "outputs": []
    },
    {
      "cell_type": "code",
      "source": [
        "def load_label(image_index):\n",
        "    image = np.zeros((512,512,1))\n",
        "    with rasterio.open(train_meta['label_path'][image_index]) as img:            \n",
        "        image[:,:,0] = img.read(1)\n",
        "    return image\n",
        "\n",
        "def cover_percentage(image_index):\n",
        "    img = load_label(image_index)\n",
        "    return np.sum(img)/(512*512)"
      ],
      "metadata": {
        "id": "6TJmak4nk5VF"
      },
      "execution_count": null,
      "outputs": []
    },
    {
      "cell_type": "code",
      "source": [
        ""
      ],
      "metadata": {
        "id": "HnwAUuBQrhD6"
      },
      "execution_count": null,
      "outputs": []
    },
    {
      "cell_type": "code",
      "source": [
        ""
      ],
      "metadata": {
        "id": "uMwo0bhqrg-N"
      },
      "execution_count": null,
      "outputs": []
    },
    {
      "cell_type": "code",
      "source": [
        ""
      ],
      "metadata": {
        "id": "VuXEekn7rg3b"
      },
      "execution_count": null,
      "outputs": []
    }
  ]
}