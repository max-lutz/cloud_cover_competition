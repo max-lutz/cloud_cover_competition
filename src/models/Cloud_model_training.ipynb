{
  "nbformat": 4,
  "nbformat_minor": 0,
  "metadata": {
    "colab": {
      "name": "Cloud model training.ipynb",
      "provenance": []
    },
    "kernelspec": {
      "name": "python3",
      "display_name": "Python 3"
    },
    "language_info": {
      "name": "python"
    }
  },
  "cells": [
    {
      "cell_type": "code",
      "execution_count": 67,
      "metadata": {
        "id": "ezXwtflRecMG",
        "colab": {
          "base_uri": "https://localhost:8080/"
        },
        "outputId": "134bc97e-a117-41ac-911c-336d76a7c530"
      },
      "outputs": [
        {
          "output_type": "stream",
          "name": "stdout",
          "text": [
            "Requirement already satisfied: line_profiler in /usr/local/lib/python3.7/dist-packages (3.3.1)\n",
            "Requirement already satisfied: IPython>=0.13 in /usr/local/lib/python3.7/dist-packages (from line_profiler) (5.5.0)\n",
            "Requirement already satisfied: traitlets>=4.2 in /usr/local/lib/python3.7/dist-packages (from IPython>=0.13->line_profiler) (5.1.1)\n",
            "Requirement already satisfied: prompt-toolkit<2.0.0,>=1.0.4 in /usr/local/lib/python3.7/dist-packages (from IPython>=0.13->line_profiler) (1.0.18)\n",
            "Requirement already satisfied: simplegeneric>0.8 in /usr/local/lib/python3.7/dist-packages (from IPython>=0.13->line_profiler) (0.8.1)\n",
            "Requirement already satisfied: pickleshare in /usr/local/lib/python3.7/dist-packages (from IPython>=0.13->line_profiler) (0.7.5)\n",
            "Requirement already satisfied: setuptools>=18.5 in /usr/local/lib/python3.7/dist-packages (from IPython>=0.13->line_profiler) (57.4.0)\n",
            "Requirement already satisfied: pygments in /usr/local/lib/python3.7/dist-packages (from IPython>=0.13->line_profiler) (2.6.1)\n",
            "Requirement already satisfied: pexpect in /usr/local/lib/python3.7/dist-packages (from IPython>=0.13->line_profiler) (4.8.0)\n",
            "Requirement already satisfied: decorator in /usr/local/lib/python3.7/dist-packages (from IPython>=0.13->line_profiler) (4.4.2)\n",
            "Requirement already satisfied: six>=1.9.0 in /usr/local/lib/python3.7/dist-packages (from prompt-toolkit<2.0.0,>=1.0.4->IPython>=0.13->line_profiler) (1.15.0)\n",
            "Requirement already satisfied: wcwidth in /usr/local/lib/python3.7/dist-packages (from prompt-toolkit<2.0.0,>=1.0.4->IPython>=0.13->line_profiler) (0.2.5)\n",
            "Requirement already satisfied: ptyprocess>=0.5 in /usr/local/lib/python3.7/dist-packages (from pexpect->IPython>=0.13->line_profiler) (0.7.0)\n"
          ]
        }
      ],
      "source": [
        "!pip install rasterio -q\n",
        "!pip install pandas_path --quiet\n",
        "\n",
        "import shutil\n",
        "import matplotlib.pyplot as plt\n",
        "import numpy as np\n",
        "import pandas as pd\n",
        "from pandas_path import path\n",
        "from pathlib import Path\n",
        "from PIL import Image\n",
        "import rasterio\n",
        "\n",
        "import os\n",
        "import random\n",
        "import numpy.ma as ma\n",
        "plt.style.use(\"ggplot\")\n",
        "%matplotlib inline\n",
        "\n",
        "from IPython.display import HTML, display\n",
        "\n",
        "!pip install line_profiler\n",
        "\n",
        "import cv2\n",
        "import albumentations\n",
        "from tqdm import tqdm_notebook, tnrange\n",
        "from itertools import chain\n",
        "from skimage.io import imread, imshow, concatenate_images\n",
        "from skimage.transform import resize\n",
        "from skimage.morphology import label\n",
        "from sklearn.model_selection import train_test_split\n",
        "\n",
        "import tensorflow as tf\n",
        "\n",
        "from tensorflow.keras.metrics import MeanIoU\n",
        "import keras.backend as K\n",
        "from keras.models import Model, load_model\n",
        "from keras.layers import Input, BatchNormalization, Activation, Dense, Dropout\n",
        "from keras.layers.core import Lambda, RepeatVector, Reshape\n",
        "from keras.layers.convolutional import Conv2D, Conv2DTranspose\n",
        "from keras.layers.pooling import MaxPooling2D, GlobalMaxPool2D\n",
        "from keras.layers.merge import concatenate, add\n",
        "from keras.callbacks import EarlyStopping, ModelCheckpoint, ReduceLROnPlateau\n",
        "from tensorflow.keras.optimizers import Adam\n",
        "from keras.preprocessing.image import ImageDataGenerator, array_to_img, img_to_array, load_img\n",
        "\n",
        "pd.set_option('max_colwidth', 400)"
      ]
    },
    {
      "cell_type": "code",
      "source": [
        "from google.colab import drive\n",
        "drive.mount('/content/drive')"
      ],
      "metadata": {
        "colab": {
          "base_uri": "https://localhost:8080/"
        },
        "id": "CeYKGFyBevuE",
        "outputId": "3913815b-f67e-4ed2-82f9-05b5174419ab"
      },
      "execution_count": 2,
      "outputs": [
        {
          "output_type": "stream",
          "name": "stdout",
          "text": [
            "Mounted at /content/drive\n"
          ]
        }
      ]
    },
    {
      "cell_type": "markdown",
      "source": [
        "## Load data path"
      ],
      "metadata": {
        "id": "-PNhcawnqlMs"
      }
    },
    {
      "cell_type": "code",
      "source": [
        "img_size = 512\n",
        "\n",
        "DATA_DIR = Path.cwd().parent / \"content/drive/MyDrive/DATA_SCIENCE/data_google_colab/cloud_cover/raw/train\"\n",
        "TRAIN_FEATURES = DATA_DIR / \"train_features\"\n",
        "TRAIN_LABELS = DATA_DIR / \"train_labels\"\n",
        "\n",
        "BANDS = [\"B02\", \"B03\", \"B04\", \"B08\"]\n",
        "\n",
        "train_meta = pd.read_csv(DATA_DIR / \"train_metadata.csv\")"
      ],
      "metadata": {
        "id": "cE_P-zuTfsH7"
      },
      "execution_count": 7,
      "outputs": []
    },
    {
      "cell_type": "code",
      "source": [
        "def add_paths(df, feature_dir, label_dir=None, bands=BANDS):\n",
        "    \"\"\"\n",
        "    Given dataframe with a column for chip_id, returns a dataframe with a column\n",
        "    added indicating the path to each band's TIF image as \"{band}_path\", eg \"B02_path\".\n",
        "    A column is also added to the dataframe with paths to the label TIF, if the\n",
        "    path to the labels directory is provided.\n",
        "    \"\"\"\n",
        "    for band in bands:\n",
        "        df[f\"{band}_path\"] = \"\"\n",
        "\n",
        "    for i in range(len(df)):\n",
        "      for band in bands:\n",
        "          df[f\"{band}_path\"][i] = feature_dir / df[\"chip_id\"][i] / f\"{band}.tif\"\n",
        "          #assert df[f\"{band}_path\"].path.exists().all()\n",
        "      if label_dir is not None:\n",
        "          df[\"label_path\"][i] = label_dir / (df[\"chip_id\"][i] + \".tif\")\n",
        "          #assert df[\"label_path\"].path.exists().all()\n",
        "\n",
        "    return df"
      ],
      "metadata": {
        "id": "ppmlJMidOeRQ"
      },
      "execution_count": 57,
      "outputs": []
    },
    {
      "cell_type": "code",
      "source": [
        "train_meta = add_paths(train_meta, TRAIN_FEATURES, TRAIN_LABELS, bands=BANDS)"
      ],
      "metadata": {
        "id": "h6raE7VKPC2h"
      },
      "execution_count": 68,
      "outputs": []
    },
    {
      "cell_type": "code",
      "source": [
        "train_meta.head(5)"
      ],
      "metadata": {
        "colab": {
          "base_uri": "https://localhost:8080/",
          "height": 313
        },
        "id": "ODAFx0_Cie2k",
        "outputId": "7b1f7753-e591-4653-857a-1e4429715c7a"
      },
      "execution_count": 70,
      "outputs": [
        {
          "output_type": "execute_result",
          "data": {
            "text/html": [
              "<div>\n",
              "<style scoped>\n",
              "    .dataframe tbody tr th:only-of-type {\n",
              "        vertical-align: middle;\n",
              "    }\n",
              "\n",
              "    .dataframe tbody tr th {\n",
              "        vertical-align: top;\n",
              "    }\n",
              "\n",
              "    .dataframe thead th {\n",
              "        text-align: right;\n",
              "    }\n",
              "</style>\n",
              "<table border=\"1\" class=\"dataframe\">\n",
              "  <thead>\n",
              "    <tr style=\"text-align: right;\">\n",
              "      <th></th>\n",
              "      <th>chip_id</th>\n",
              "      <th>location</th>\n",
              "      <th>datetime</th>\n",
              "      <th>cloudpath</th>\n",
              "      <th>B02_path</th>\n",
              "      <th>B03_path</th>\n",
              "      <th>B04_path</th>\n",
              "      <th>B08_path</th>\n",
              "      <th>label_path</th>\n",
              "    </tr>\n",
              "  </thead>\n",
              "  <tbody>\n",
              "    <tr>\n",
              "      <th>0</th>\n",
              "      <td>adwp</td>\n",
              "      <td>Chifunfu</td>\n",
              "      <td>2020-04-29T08:20:47Z</td>\n",
              "      <td>az://./train_features/adwp</td>\n",
              "      <td>/content/drive/MyDrive/DATA_SCIENCE/data_google_colab/cloud_cover/raw/train/train_features/adwp/B02.tif</td>\n",
              "      <td>/content/drive/MyDrive/DATA_SCIENCE/data_google_colab/cloud_cover/raw/train/train_features/adwp/B03.tif</td>\n",
              "      <td>/content/drive/MyDrive/DATA_SCIENCE/data_google_colab/cloud_cover/raw/train/train_features/adwp/B04.tif</td>\n",
              "      <td>/content/drive/MyDrive/DATA_SCIENCE/data_google_colab/cloud_cover/raw/train/train_features/adwp/B08.tif</td>\n",
              "      <td>/content/drive/MyDrive/DATA_SCIENCE/data_google_colab/cloud_cover/raw/train/train_labels/adwp.tif</td>\n",
              "    </tr>\n",
              "    <tr>\n",
              "      <th>1</th>\n",
              "      <td>adwu</td>\n",
              "      <td>Chifunfu</td>\n",
              "      <td>2020-04-29T08:20:47Z</td>\n",
              "      <td>az://./train_features/adwu</td>\n",
              "      <td>/content/drive/MyDrive/DATA_SCIENCE/data_google_colab/cloud_cover/raw/train/train_features/adwu/B02.tif</td>\n",
              "      <td>/content/drive/MyDrive/DATA_SCIENCE/data_google_colab/cloud_cover/raw/train/train_features/adwu/B03.tif</td>\n",
              "      <td>/content/drive/MyDrive/DATA_SCIENCE/data_google_colab/cloud_cover/raw/train/train_features/adwu/B04.tif</td>\n",
              "      <td>/content/drive/MyDrive/DATA_SCIENCE/data_google_colab/cloud_cover/raw/train/train_features/adwu/B08.tif</td>\n",
              "      <td>/content/drive/MyDrive/DATA_SCIENCE/data_google_colab/cloud_cover/raw/train/train_labels/adwu.tif</td>\n",
              "    </tr>\n",
              "    <tr>\n",
              "      <th>2</th>\n",
              "      <td>adwz</td>\n",
              "      <td>Chifunfu</td>\n",
              "      <td>2020-04-29T08:20:47Z</td>\n",
              "      <td>az://./train_features/adwz</td>\n",
              "      <td>/content/drive/MyDrive/DATA_SCIENCE/data_google_colab/cloud_cover/raw/train/train_features/adwz/B02.tif</td>\n",
              "      <td>/content/drive/MyDrive/DATA_SCIENCE/data_google_colab/cloud_cover/raw/train/train_features/adwz/B03.tif</td>\n",
              "      <td>/content/drive/MyDrive/DATA_SCIENCE/data_google_colab/cloud_cover/raw/train/train_features/adwz/B04.tif</td>\n",
              "      <td>/content/drive/MyDrive/DATA_SCIENCE/data_google_colab/cloud_cover/raw/train/train_features/adwz/B08.tif</td>\n",
              "      <td>/content/drive/MyDrive/DATA_SCIENCE/data_google_colab/cloud_cover/raw/train/train_labels/adwz.tif</td>\n",
              "    </tr>\n",
              "    <tr>\n",
              "      <th>3</th>\n",
              "      <td>adxp</td>\n",
              "      <td>Chifunfu</td>\n",
              "      <td>2020-04-29T08:20:47Z</td>\n",
              "      <td>az://./train_features/adxp</td>\n",
              "      <td>/content/drive/MyDrive/DATA_SCIENCE/data_google_colab/cloud_cover/raw/train/train_features/adxp/B02.tif</td>\n",
              "      <td>/content/drive/MyDrive/DATA_SCIENCE/data_google_colab/cloud_cover/raw/train/train_features/adxp/B03.tif</td>\n",
              "      <td>/content/drive/MyDrive/DATA_SCIENCE/data_google_colab/cloud_cover/raw/train/train_features/adxp/B04.tif</td>\n",
              "      <td>/content/drive/MyDrive/DATA_SCIENCE/data_google_colab/cloud_cover/raw/train/train_features/adxp/B08.tif</td>\n",
              "      <td>/content/drive/MyDrive/DATA_SCIENCE/data_google_colab/cloud_cover/raw/train/train_labels/adxp.tif</td>\n",
              "    </tr>\n",
              "    <tr>\n",
              "      <th>4</th>\n",
              "      <td>aeaj</td>\n",
              "      <td>Chifunfu</td>\n",
              "      <td>2020-04-29T08:20:47Z</td>\n",
              "      <td>az://./train_features/aeaj</td>\n",
              "      <td>/content/drive/MyDrive/DATA_SCIENCE/data_google_colab/cloud_cover/raw/train/train_features/aeaj/B02.tif</td>\n",
              "      <td>/content/drive/MyDrive/DATA_SCIENCE/data_google_colab/cloud_cover/raw/train/train_features/aeaj/B03.tif</td>\n",
              "      <td>/content/drive/MyDrive/DATA_SCIENCE/data_google_colab/cloud_cover/raw/train/train_features/aeaj/B04.tif</td>\n",
              "      <td>/content/drive/MyDrive/DATA_SCIENCE/data_google_colab/cloud_cover/raw/train/train_features/aeaj/B08.tif</td>\n",
              "      <td>/content/drive/MyDrive/DATA_SCIENCE/data_google_colab/cloud_cover/raw/train/train_labels/aeaj.tif</td>\n",
              "    </tr>\n",
              "  </tbody>\n",
              "</table>\n",
              "</div>"
            ],
            "text/plain": [
              "  chip_id  ...                                                                                         label_path\n",
              "0    adwp  ...  /content/drive/MyDrive/DATA_SCIENCE/data_google_colab/cloud_cover/raw/train/train_labels/adwp.tif\n",
              "1    adwu  ...  /content/drive/MyDrive/DATA_SCIENCE/data_google_colab/cloud_cover/raw/train/train_labels/adwu.tif\n",
              "2    adwz  ...  /content/drive/MyDrive/DATA_SCIENCE/data_google_colab/cloud_cover/raw/train/train_labels/adwz.tif\n",
              "3    adxp  ...  /content/drive/MyDrive/DATA_SCIENCE/data_google_colab/cloud_cover/raw/train/train_labels/adxp.tif\n",
              "4    aeaj  ...  /content/drive/MyDrive/DATA_SCIENCE/data_google_colab/cloud_cover/raw/train/train_labels/aeaj.tif\n",
              "\n",
              "[5 rows x 9 columns]"
            ]
          },
          "metadata": {},
          "execution_count": 70
        }
      ]
    },
    {
      "cell_type": "markdown",
      "source": [
        ""
      ],
      "metadata": {
        "id": "i9tY4w_Sqonp"
      }
    },
    {
      "cell_type": "markdown",
      "source": [
        ""
      ],
      "metadata": {
        "id": "eIwIRTwsqocZ"
      }
    },
    {
      "cell_type": "code",
      "source": [
        ""
      ],
      "metadata": {
        "id": "6TJmak4nk5VF"
      },
      "execution_count": null,
      "outputs": []
    }
  ]
}